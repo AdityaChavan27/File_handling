{
 "cells": [
  {
   "cell_type": "code",
   "execution_count": 6,
   "metadata": {},
   "outputs": [
    {
     "name": "stdout",
     "output_type": "stream",
     "text": [
      "[1, 2, 3, 4, 5, 6.7, (7+8j), 'Aditya', 'Riyaz', 'Yashika']\n",
      "<class 'int'>\n",
      "<class 'complex'>\n",
      "<class 'str'>\n",
      "<class 'float'>\n"
     ]
    }
   ],
   "source": [
    "#1.\tCreate a list of the 10 elements of four different types of Data Type like int, string, complex and float.\n",
    "l1=[1,2,3,4,5,6.7,7+8j,\"Aditya\",\"Riyaz\",\"Yashika\"]\n",
    "print(l1)\n",
    "print(type(l1[0]))\n",
    "print(type(l1[6]))\n",
    "print(type(l1[7]))\n",
    "print(type(l1[5]))"
   ]
  },
  {
   "cell_type": "code",
   "execution_count": 7,
   "metadata": {},
   "outputs": [
    {
     "name": "stdout",
     "output_type": "stream",
     "text": [
      "[1, 2, 3, 4, 5]\n",
      "[3, 4, 5]\n",
      "[1, 2, 3, 4]\n",
      "[2, 4]\n"
     ]
    }
   ],
   "source": [
    "#2. \tCreate a list of size 5 and execute the slicing structure\n",
    "l1=[1,2,3,4,5]\n",
    "print(l1[:])\n",
    "print(l1[2:])\n",
    "print(l1[:4])\n",
    "print(l1[1:5:2]) # Slicing with step size"
   ]
  },
  {
   "cell_type": "code",
   "execution_count": 18,
   "metadata": {},
   "outputs": [
    {
     "name": "stdout",
     "output_type": "stream",
     "text": [
      "[1, 2, 3, 4]\n",
      "[600, 700]\n",
      "[100, 300, 500, 600, 800]\n",
      "[800, 700, 600, [1, 2, 3, 4, 5, [10, 20, 30, 40, 50], 6, 7, 8, 9], 500, 400, 300, 200, 100]\n",
      "10\n",
      "[]\n"
     ]
    }
   ],
   "source": [
    "\"\"\"\n",
    "3. \tCreate a list of given structure and run \n",
    "\tx=[100,200,300,400,500,[1,2,3,4,5,[10,20,30,40,50],6,7,8,9],600,700,800]\n",
    "Access list [1, 2, 3, 4]\n",
    "Access list [600,  700]\n",
    "Access list [100, 300, 500, 600, 800]\n",
    "Access list [[800, 700, 600, [1, 2, 3, 4, 5, [10, 20, 30, 40, 50], 6, 7, 8, 9], 500, 400, 300, 200, 100]]\n",
    "Access list [10]\n",
    "Access list [ ]\n",
    "\"\"\"\n",
    "x=[100,200,300,400,500,[1,2,3,4,5,[10,20,30,40,50],6,7,8,9],600,700,800]\n",
    "print(x[5][0:4])\n",
    "print(x[6:8])\n",
    "print(x[0::2])\n",
    "print(x[::-1])\n",
    "print(x[5][5][0])\n",
    "print(list())\n"
   ]
  },
  {
   "cell_type": "code",
   "execution_count": 22,
   "metadata": {},
   "outputs": [
    {
     "name": "stdout",
     "output_type": "stream",
     "text": [
      "range(0, 1000)\n"
     ]
    },
    {
     "ename": "NameError",
     "evalue": "name 'xrange' is not defined",
     "output_type": "error",
     "traceback": [
      "\u001b[1;31m---------------------------------------------------------------------------\u001b[0m",
      "\u001b[1;31mNameError\u001b[0m                                 Traceback (most recent call last)",
      "\u001b[1;32m<ipython-input-22-ef692d31e138>\u001b[0m in \u001b[0;36m<module>\u001b[1;34m()\u001b[0m\n\u001b[0;32m      4\u001b[0m \u001b[0mx\u001b[0m\u001b[1;33m=\u001b[0m\u001b[0mrange\u001b[0m\u001b[1;33m(\u001b[0m\u001b[1;36m1000\u001b[0m\u001b[1;33m)\u001b[0m\u001b[1;33m\u001b[0m\u001b[0m\n\u001b[0;32m      5\u001b[0m \u001b[0mprint\u001b[0m\u001b[1;33m(\u001b[0m\u001b[0mx\u001b[0m\u001b[1;33m)\u001b[0m\u001b[1;33m\u001b[0m\u001b[0m\n\u001b[1;32m----> 6\u001b[1;33m \u001b[0my\u001b[0m\u001b[1;33m=\u001b[0m\u001b[0mxrange\u001b[0m\u001b[1;33m(\u001b[0m\u001b[1;36m1000\u001b[0m\u001b[1;33m)\u001b[0m\u001b[1;33m\u001b[0m\u001b[0m\n\u001b[0m\u001b[0;32m      7\u001b[0m \u001b[0mprint\u001b[0m\u001b[1;33m(\u001b[0m\u001b[0my\u001b[0m\u001b[1;33m)\u001b[0m\u001b[1;33m\u001b[0m\u001b[0m\n\u001b[0;32m      8\u001b[0m \u001b[1;31m#creating list using Range\u001b[0m\u001b[1;33m\u001b[0m\u001b[1;33m\u001b[0m\u001b[0m\n",
      "\u001b[1;31mNameError\u001b[0m: name 'xrange' is not defined"
     ]
    }
   ],
   "source": [
    "\"\"\"\n",
    "4. \tCreate a list of thousand number using range and xrange and see the difference between each other.\n",
    "\"\"\"\n",
    "x=range(1000)\n",
    "print(x)\n",
    "y=xrange(1000)\n",
    "print(y)\n"
   ]
  },
  {
   "cell_type": "code",
   "execution_count": 23,
   "metadata": {},
   "outputs": [
    {
     "name": "stdout",
     "output_type": "stream",
     "text": [
      "[0, 1, 2, 3, 4, 5, 6, 7, 8, 9, 10, 11, 12, 13, 14, 15, 16, 17, 18, 19, 20, 21, 22, 23, 24, 25, 26, 27, 28, 29, 30, 31, 32, 33, 34, 35, 36, 37, 38, 39, 40, 41, 42, 43, 44, 45, 46, 47, 48, 49, 50, 51, 52, 53, 54, 55, 56, 57, 58, 59, 60, 61, 62, 63, 64, 65, 66, 67, 68, 69, 70, 71, 72, 73, 74, 75, 76, 77, 78, 79, 80, 81, 82, 83, 84, 85, 86, 87, 88, 89, 90, 91, 92, 93, 94, 95, 96, 97, 98, 99, 100, 101, 102, 103, 104, 105, 106, 107, 108, 109, 110, 111, 112, 113, 114, 115, 116, 117, 118, 119, 120, 121, 122, 123, 124, 125, 126, 127, 128, 129, 130, 131, 132, 133, 134, 135, 136, 137, 138, 139, 140, 141, 142, 143, 144, 145, 146, 147, 148, 149, 150, 151, 152, 153, 154, 155, 156, 157, 158, 159, 160, 161, 162, 163, 164, 165, 166, 167, 168, 169, 170, 171, 172, 173, 174, 175, 176, 177, 178, 179, 180, 181, 182, 183, 184, 185, 186, 187, 188, 189, 190, 191, 192, 193, 194, 195, 196, 197, 198, 199, 200, 201, 202, 203, 204, 205, 206, 207, 208, 209, 210, 211, 212, 213, 214, 215, 216, 217, 218, 219, 220, 221, 222, 223, 224, 225, 226, 227, 228, 229, 230, 231, 232, 233, 234, 235, 236, 237, 238, 239, 240, 241, 242, 243, 244, 245, 246, 247, 248, 249, 250, 251, 252, 253, 254, 255, 256, 257, 258, 259, 260, 261, 262, 263, 264, 265, 266, 267, 268, 269, 270, 271, 272, 273, 274, 275, 276, 277, 278, 279, 280, 281, 282, 283, 284, 285, 286, 287, 288, 289, 290, 291, 292, 293, 294, 295, 296, 297, 298, 299, 300, 301, 302, 303, 304, 305, 306, 307, 308, 309, 310, 311, 312, 313, 314, 315, 316, 317, 318, 319, 320, 321, 322, 323, 324, 325, 326, 327, 328, 329, 330, 331, 332, 333, 334, 335, 336, 337, 338, 339, 340, 341, 342, 343, 344, 345, 346, 347, 348, 349, 350, 351, 352, 353, 354, 355, 356, 357, 358, 359, 360, 361, 362, 363, 364, 365, 366, 367, 368, 369, 370, 371, 372, 373, 374, 375, 376, 377, 378, 379, 380, 381, 382, 383, 384, 385, 386, 387, 388, 389, 390, 391, 392, 393, 394, 395, 396, 397, 398, 399, 400, 401, 402, 403, 404, 405, 406, 407, 408, 409, 410, 411, 412, 413, 414, 415, 416, 417, 418, 419, 420, 421, 422, 423, 424, 425, 426, 427, 428, 429, 430, 431, 432, 433, 434, 435, 436, 437, 438, 439, 440, 441, 442, 443, 444, 445, 446, 447, 448, 449, 450, 451, 452, 453, 454, 455, 456, 457, 458, 459, 460, 461, 462, 463, 464, 465, 466, 467, 468, 469, 470, 471, 472, 473, 474, 475, 476, 477, 478, 479, 480, 481, 482, 483, 484, 485, 486, 487, 488, 489, 490, 491, 492, 493, 494, 495, 496, 497, 498, 499, 500, 501, 502, 503, 504, 505, 506, 507, 508, 509, 510, 511, 512, 513, 514, 515, 516, 517, 518, 519, 520, 521, 522, 523, 524, 525, 526, 527, 528, 529, 530, 531, 532, 533, 534, 535, 536, 537, 538, 539, 540, 541, 542, 543, 544, 545, 546, 547, 548, 549, 550, 551, 552, 553, 554, 555, 556, 557, 558, 559, 560, 561, 562, 563, 564, 565, 566, 567, 568, 569, 570, 571, 572, 573, 574, 575, 576, 577, 578, 579, 580, 581, 582, 583, 584, 585, 586, 587, 588, 589, 590, 591, 592, 593, 594, 595, 596, 597, 598, 599, 600, 601, 602, 603, 604, 605, 606, 607, 608, 609, 610, 611, 612, 613, 614, 615, 616, 617, 618, 619, 620, 621, 622, 623, 624, 625, 626, 627, 628, 629, 630, 631, 632, 633, 634, 635, 636, 637, 638, 639, 640, 641, 642, 643, 644, 645, 646, 647, 648, 649, 650, 651, 652, 653, 654, 655, 656, 657, 658, 659, 660, 661, 662, 663, 664, 665, 666, 667, 668, 669, 670, 671, 672, 673, 674, 675, 676, 677, 678, 679, 680, 681, 682, 683, 684, 685, 686, 687, 688, 689, 690, 691, 692, 693, 694, 695, 696, 697, 698, 699, 700, 701, 702, 703, 704, 705, 706, 707, 708, 709, 710, 711, 712, 713, 714, 715, 716, 717, 718, 719, 720, 721, 722, 723, 724, 725, 726, 727, 728, 729, 730, 731, 732, 733, 734, 735, 736, 737, 738, 739, 740, 741, 742, 743, 744, 745, 746, 747, 748, 749, 750, 751, 752, 753, 754, 755, 756, 757, 758, 759, 760, 761, 762, 763, 764, 765, 766, 767, 768, 769, 770, 771, 772, 773, 774, 775, 776, 777, 778, 779, 780, 781, 782, 783, 784, 785, 786, 787, 788, 789, 790, 791, 792, 793, 794, 795, 796, 797, 798, 799, 800, 801, 802, 803, 804, 805, 806, 807, 808, 809, 810, 811, 812, 813, 814, 815, 816, 817, 818, 819, 820, 821, 822, 823, 824, 825, 826, 827, 828, 829, 830, 831, 832, 833, 834, 835, 836, 837, 838, 839, 840, 841, 842, 843, 844, 845, 846, 847, 848, 849, 850, 851, 852, 853, 854, 855, 856, 857, 858, 859, 860, 861, 862, 863, 864, 865, 866, 867, 868, 869, 870, 871, 872, 873, 874, 875, 876, 877, 878, 879, 880, 881, 882, 883, 884, 885, 886, 887, 888, 889, 890, 891, 892, 893, 894, 895, 896, 897, 898, 899, 900, 901, 902, 903, 904, 905, 906, 907, 908, 909, 910, 911, 912, 913, 914, 915, 916, 917, 918, 919, 920, 921, 922, 923, 924, 925, 926, 927, 928, 929, 930, 931, 932, 933, 934, 935, 936, 937, 938, 939, 940, 941, 942, 943, 944, 945, 946, 947, 948, 949, 950, 951, 952, 953, 954, 955, 956, 957, 958, 959, 960, 961, 962, 963, 964, 965, 966, 967, 968, 969, 970, 971, 972, 973, 974, 975, 976, 977, 978, 979, 980, 981, 982, 983, 984, 985, 986, 987, 988, 989, 990, 991, 992, 993, 994, 995, 996, 997, 998, 999, 1000]\n"
     ]
    }
   ],
   "source": [
    "#creating list using Range\n",
    "z=[]\n",
    "for i in range(1001):\n",
    "    z.append(i)\n",
    "print(z)\n",
    "\n"
   ]
  },
  {
   "cell_type": "code",
   "execution_count": null,
   "metadata": {},
   "outputs": [],
   "source": [
    "\"\"\"\n",
    "5. Advantage of tuples over list\n",
    "\n",
    "\"\"\"\n",
    "\n",
    "1)\n",
    "Python tuples are immutable\n",
    "2)\n",
    "Iterations are faster in tuple due to their immutable property.\n",
    "3)\n",
    "Whenever we want to keep our data secured,then we use tuples as the data inside the tuple cannot be changed.\n",
    "\n"
   ]
  },
  {
   "cell_type": "code",
   "execution_count": 25,
   "metadata": {},
   "outputs": [
    {
     "name": "stdout",
     "output_type": "stream",
     "text": [
      "2\n",
      "3\n",
      "4\n",
      "6\n",
      "8\n",
      "9\n",
      "10\n",
      "12\n",
      "14\n",
      "15\n",
      "16\n",
      "18\n",
      "20\n",
      "21\n",
      "22\n",
      "24\n",
      "26\n",
      "27\n",
      "28\n",
      "30\n",
      "32\n",
      "33\n",
      "34\n",
      "36\n",
      "38\n",
      "39\n",
      "40\n",
      "42\n",
      "44\n",
      "45\n",
      "46\n",
      "48\n",
      "50\n",
      "51\n",
      "52\n",
      "54\n",
      "56\n",
      "57\n",
      "58\n",
      "60\n",
      "62\n",
      "63\n",
      "64\n",
      "66\n",
      "68\n",
      "69\n",
      "70\n",
      "72\n",
      "74\n",
      "75\n",
      "76\n",
      "78\n",
      "80\n",
      "81\n",
      "82\n",
      "84\n",
      "86\n",
      "87\n",
      "88\n",
      "90\n",
      "92\n",
      "93\n",
      "94\n",
      "96\n",
      "98\n",
      "99\n"
     ]
    }
   ],
   "source": [
    "\"\"\"\n",
    "6. \tWrite a program in Python to iterate through the list of \n",
    "numbers in the range of 1,100 and print the number which is divisible by 3 and a multiple of 2.\n",
    "\"\"\"\n",
    "for i in range(1,100):\n",
    "    if(i%3==0):\n",
    "        print(i)\n",
    "    elif(i%2==0):\n",
    "        print(i)\n",
    "\n",
    "        \n"
   ]
  },
  {
   "cell_type": "code",
   "execution_count": 47,
   "metadata": {},
   "outputs": [
    {
     "name": "stdout",
     "output_type": "stream",
     "text": [
      "Enter the string : xxx\n",
      "xxx\n"
     ]
    }
   ],
   "source": [
    "\"\"\"\n",
    "7. \tWrite a program in Python to reverse a string and \n",
    "print only the vowel alphabet if exist in the string with their index.\n",
    "\"\"\"\n",
    "user_inp=input(\"Enter the string : \")\n",
    "z=user_inp[::-1].lower()\n",
    "for i in range(len(z)):\n",
    "    if(z[i]==\"a\" or z[i]==\"e\" or z[i]==\"i\" or z[i]==\"o\" or z[i]==\"u\"):\n",
    "       print(z[i] ,\":\" ,i)\n",
    "    else:\n",
    "        pass\n",
    "    "
   ]
  },
  {
   "cell_type": "code",
   "execution_count": 50,
   "metadata": {},
   "outputs": [
    {
     "name": "stdout",
     "output_type": "stream",
     "text": [
      "a : 2\n",
      "u : 5\n",
      "o : 8\n"
     ]
    }
   ],
   "source": [
    "# With no user_input\n",
    "n=\"Consultadd\"\n",
    "z=n[::-1].lower()\n",
    "for i in range(len(z)):\n",
    "    if(z[i]==\"a\" or z[i]==\"e\" or z[i]==\"i\" or z[i]==\"o\" or z[i]==\"u\"):\n",
    "       print(z[i] ,\":\" ,i)\n",
    "    else:\n",
    "        pass\n",
    "    "
   ]
  },
  {
   "cell_type": "code",
   "execution_count": 51,
   "metadata": {},
   "outputs": [
    {
     "name": "stdout",
     "output_type": "stream",
     "text": [
      "h\n",
      "l\n",
      "o\n",
      "m\n",
      " \n",
      "a\n",
      "e\n",
      "i\n",
      " \n",
      "b\n",
      "d\n"
     ]
    }
   ],
   "source": [
    "\"\"\"\n",
    "8. \tWrite a program in Python to iterate through the \n",
    "string “hello my name is abcde” \n",
    "and print the string which has even length of word.\n",
    "\"\"\"\n",
    "string=\"hello my name is abcde\"\n",
    "for i in range(len(string)):\n",
    "    if(i%2==0):\n",
    "        print(string[i])"
   ]
  },
  {
   "cell_type": "code",
   "execution_count": 56,
   "metadata": {},
   "outputs": [
    {
     "name": "stdout",
     "output_type": "stream",
     "text": [
      "h\n",
      "l\n",
      "o\n",
      "m\n",
      "a\n",
      "e\n",
      "i\n",
      "b\n",
      "d\n"
     ]
    }
   ],
   "source": [
    "#Removing spaces\n",
    "string=\"hello my name is abcde\"\n",
    "for i in range(len(string)):\n",
    "    if(i%2==0) and (string[i].isalpha()):\n",
    "        print(string[i])"
   ]
  },
  {
   "cell_type": "code",
   "execution_count": 70,
   "metadata": {},
   "outputs": [
    {
     "name": "stdout",
     "output_type": "stream",
     "text": [
      "1 7\n",
      "2 6\n",
      "3 5\n",
      "9 -1\n"
     ]
    }
   ],
   "source": [
    "\"\"\"\n",
    "9. \tWrite a program in python to print the pair of numbers whose sum is equal to result number that is let's say 8.\n",
    "x=[1,2,3,4,5,6,7,8,9,-1]\n",
    "\"\"\"\n",
    "#Using List\n",
    "x=[1,2,3,4,5,6,7,8,9,-1]\n",
    "for i in range(0,len(x)-1):\n",
    "    for j in range(i+1,len(x)):\n",
    "        if(x[i]+x[j]==8):\n",
    "            print(x[i],x[j])"
   ]
  },
  {
   "cell_type": "code",
   "execution_count": 81,
   "metadata": {},
   "outputs": [
    {
     "name": "stdout",
     "output_type": "stream",
     "text": [
      "Enter the number in the range of 1-50 : 10\n",
      "Enter the number in the range of 1-50 : 11\n",
      "Enter the number in the range of 1-50 : 20\n",
      "Enter the number in the range of 1-50 : 30\n",
      "Enter the number in the range of 1-50 : 24\n",
      "Enter the number in the range of 1-50 : 23\n",
      "Enter the number in the range of 1-50 : 53\n",
      "Enter the number in the range of 1-50 : 23\n",
      "Enter the number in the range of 1-50 : 1\n",
      "Enter the number in the range of 1-50 : 2\n",
      "Even_List :  [10, 20, 30, 24, 2]\n",
      "Sum of Even_list :  86\n",
      "Max of Even_list :  30\n",
      "Odd_List :  [11, 23, 53, 23, 1]\n",
      "Sum of odd_list :  111\n",
      "Max of odd_list :  53\n"
     ]
    }
   ],
   "source": [
    "\"\"\"\n",
    "10. \tWrite a program in Python to complete the following task:\n",
    "Create two different list as in even_list and odd_list\n",
    "Ask user to enter the number in the range of 1,50 and make sure \n",
    "if the entered number is even append it to the even_list and if the entered number is odd append it to the odd list.\n",
    "Keep that in mind you can only add 5 items in each list\n",
    "Make sure once you entered the total 5 element calculate the sum of the list and return the maximum out of the list.\n",
    "\n",
    "\"\"\"\n",
    "even_list=[]\n",
    "odd_list=[]\n",
    "counter=0\n",
    "count_even=0\n",
    "count_odd=0\n",
    "while(counter!=10):\n",
    "    user_inp=int(input(\"Enter the number in the range of 1-50 : \"))\n",
    "\n",
    "    if(user_inp %2 ==0):\n",
    "        if(count_even<5):\n",
    "            even_list.append(user_inp)\n",
    "            count_even+=1\n",
    "        else:\n",
    "            print(\"You can only enter 5 even values\")\n",
    "            continue\n",
    "    else:\n",
    "        if(count_odd<5):\n",
    "            odd_list.append(user_inp)\n",
    "            count_odd+=1\n",
    "        else:\n",
    "            print(\"You can only enter 5 odd elements\")\n",
    "            continue\n",
    "    counter=counter+1\n",
    "print(\"Even_List : \",even_list)\n",
    "print(\"Sum of Even_list : \",sum(even_list))\n",
    "print(\"Max of Even_list : \" , max(even_list))\n",
    "print(\"Odd_List : \",odd_list)\n",
    "print(\"Sum of odd_list : \",sum(odd_list))\n",
    "print(\"Max of odd_list : \" ,max(odd_list))"
   ]
  },
  {
   "cell_type": "code",
   "execution_count": 84,
   "metadata": {},
   "outputs": [
    {
     "name": "stdout",
     "output_type": "stream",
     "text": [
      "{'a': 5, 'b': 5, 'c': 2}\n"
     ]
    }
   ],
   "source": [
    "\"\"\"\n",
    "Write a program to find out the occurrence of a specific word from an alphanumeric statement.\n",
    "Example: 12abcbacbaba344ab  \n",
    "Output: a=5 b=5 c=2 make sure you should avoid the numbers in you logic\n",
    "\"\"\"\n",
    "n=\"12abcbacbaba344ab\"\n",
    "d=dict()\n",
    "for i in n:\n",
    "    if(i.isalpha()):\n",
    "        if(i in d):\n",
    "            d[i]+=1\n",
    "        else:\n",
    "            d[i]=1\n",
    "    else:\n",
    "        continue\n",
    "print(d)\n",
    "\n",
    "\n"
   ]
  },
  {
   "cell_type": "code",
   "execution_count": 96,
   "metadata": {},
   "outputs": [
    {
     "name": "stdout",
     "output_type": "stream",
     "text": [
      "(2, 4, 6, 8, 10)\n"
     ]
    }
   ],
   "source": [
    "\"\"\"\n",
    "12.Generate and print another tuple whose values are even numbers\n",
    "in the given tuple (1,2,3,4,5,6,7,8,9,10).\n",
    "\"\"\"\n",
    "a=(1,2,3,4,5,6,7,8,9,10)\n",
    "b=tuple()\n",
    "for i in a:\n",
    "    if(i%2==0):\n",
    "        b=b+ (i,)\n",
    "print(b)"
   ]
  },
  {
   "cell_type": "code",
   "execution_count": null,
   "metadata": {},
   "outputs": [],
   "source": []
  }
 ],
 "metadata": {
  "kernelspec": {
   "display_name": "Python 3",
   "language": "python",
   "name": "python3"
  },
  "language_info": {
   "codemirror_mode": {
    "name": "ipython",
    "version": 3
   },
   "file_extension": ".py",
   "mimetype": "text/x-python",
   "name": "python",
   "nbconvert_exporter": "python",
   "pygments_lexer": "ipython3",
   "version": "3.6.5"
  }
 },
 "nbformat": 4,
 "nbformat_minor": 2
}
