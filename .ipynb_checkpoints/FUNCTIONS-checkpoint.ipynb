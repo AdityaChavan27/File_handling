{
 "cells": [
  {
   "cell_type": "code",
   "execution_count": null,
   "metadata": {},
   "outputs": [],
   "source": [
    "\"\"\"\n",
    "1. \tWrite a program to reverse a string.\n",
    "Sample data: “1234abcd”\n",
    "Expected Output: “dcba4321”\n",
    "\"\"\"\n",
    "sample_data=\"1234abcd\"\n",
    "res=sample_data[::-1]\n",
    "print(res)"
   ]
  },
  {
   "cell_type": "code",
   "execution_count": null,
   "metadata": {},
   "outputs": [],
   "source": [
    "\"\"\"\n",
    "2. \tWrite a function that accepts a string and calculate the number of uppercase letters and lowercase letters.\n",
    "Expected Output:\n",
    "No. of Upper case characters : 3\n",
    "No. of Lower case Characters : 12\n",
    "\"\"\"\n",
    "\n",
    "def identify_upper_or_lower(n):\n",
    "    count_upper=0\n",
    "    count_lower=0\n",
    "    for i in n:\n",
    "        if(i.isupper()):\n",
    "            count_upper+=1\n",
    "        elif(i.islower()):\n",
    "            count_lower+=1\n",
    "    print(\"No. of Upper case characters :\",count_upper) \n",
    "    print(\"No. of lower case characters :\",count_lower)\n",
    "identify_upper_or_lower(\"ConsultADD\")\n",
    "            "
   ]
  },
  {
   "cell_type": "code",
   "execution_count": null,
   "metadata": {},
   "outputs": [],
   "source": [
    "\"\"\"\n",
    "3.Create a function that takes a list and returns a new list with unique elements of the first list.\n",
    "\"\"\"\n",
    "def unique(n):\n",
    "    return list(set(n))\n",
    "n=[1,2,1,1,3,\"Aditya\",\"Aditya\"]\n",
    "unique(n)"
   ]
  },
  {
   "cell_type": "code",
   "execution_count": null,
   "metadata": {},
   "outputs": [],
   "source": [
    "\"\"\"\n",
    "Write a program that accepts a hyphen-separated sequence of words \n",
    "as input and prints the words in a hyphen-separated sequence after sorting them alphabetically.\n",
    "\"\"\"\n",
    "def hyper_sep_seq(n):\n",
    "    z=n.split(\"-\")\n",
    "    z.sort()\n",
    "    k=\"-\".join(z)\n",
    "    return k\n",
    "n=\"i-am-a-good-boy\"\n",
    "hyper_sep_seq(n)"
   ]
  },
  {
   "cell_type": "code",
   "execution_count": null,
   "metadata": {},
   "outputs": [],
   "source": [
    "\"\"\"\n",
    "5.Write a program that accepts a sequence of lines as input and \n",
    "prints the lines after making all characters in the sentence capitalized.\n",
    "Sample input:\n",
    "Hello world\n",
    "Practice makes perfect\n",
    "Expected Output:\n",
    "HELLO WORLD\n",
    "PRACTICE MAKES PERFECT\n",
    "\"\"\"\n",
    "n=input(\"Enter the lines : \")\n",
    "print(n.upper())"
   ]
  },
  {
   "cell_type": "code",
   "execution_count": null,
   "metadata": {},
   "outputs": [],
   "source": [
    "\"\"\"\n",
    "6.Define a function that can receive two integral numbers \n",
    "in string form and compute their sum and print it in console.\n",
    "\"\"\"\n",
    "def num(a,b):\n",
    "    a=int(a)\n",
    "    b=int(b)\n",
    "    sum_a=a+b\n",
    "    return sum_a\n",
    "a='13'\n",
    "b='23'\n",
    "num(a,b)\n"
   ]
  },
  {
   "cell_type": "code",
   "execution_count": null,
   "metadata": {},
   "outputs": [],
   "source": [
    "\"\"\"\n",
    "7.Define a function that can accept two strings as input and print the string with maximum length in console. \n",
    "If two strings have the same length, then the function should print all strings line by line.\n",
    "\"\"\"\n",
    "\n",
    "def max_str(a,b):\n",
    "    if(len(a)>len(b)):\n",
    "        return a\n",
    "    elif(len(a)<len(b)):\n",
    "        return b\n",
    "    else:\n",
    "        return print(a,\"\\n\",b)\n",
    "a=\"asdscds\"\n",
    "b=\"xsxsdfd\"\n",
    "max_str(a,b)"
   ]
  },
  {
   "cell_type": "code",
   "execution_count": null,
   "metadata": {},
   "outputs": [],
   "source": [
    "\"\"\"8. Define a function which can generate and print a tuple where the value are square of numbers between 1 and 20.\n",
    "\"\"\"\n",
    "var=tuple(map(lambda x:x**2,range(1,21)))\n",
    "print(var)\n",
    "\n"
   ]
  },
  {
   "cell_type": "code",
   "execution_count": null,
   "metadata": {},
   "outputs": [],
   "source": [
    "def square():\n",
    "    a=tuple()\n",
    "    for i in range(1,21):\n",
    "        a=a+(i**2,)\n",
    "    return print(a)\n",
    "square()\n",
    "        "
   ]
  },
  {
   "cell_type": "code",
   "execution_count": null,
   "metadata": {},
   "outputs": [],
   "source": [
    "\"\"\"\n",
    "9.Write a function called showNumbers that takes a parameter called limit. \n",
    "It should print all the numbers between 0 and limit with a label to identify the even and odd numbers. \n",
    "Example: If the limit is 3 , it should print:\n",
    "0 EVEN\n",
    "1 ODD\n",
    "2 EVEN\n",
    "3 ODD\n",
    "\"\"\"\n",
    "def showNumbers(limit):\n",
    "    for i in range(0,limit+1):\n",
    "        if(i%2==0):\n",
    "            print( i ,\"EVEN\")\n",
    "        else:\n",
    "            print( i ,\"ODD\")\n",
    "        \n",
    "limit=15\n",
    "showNumbers(limit)"
   ]
  },
  {
   "cell_type": "code",
   "execution_count": null,
   "metadata": {},
   "outputs": [],
   "source": [
    "\"\"\"\n",
    "10. Write a program which can filter() to make a list whose elements are even number between 1 and 20 ( both included)\n",
    "\"\"\"\n",
    "var=list(filter(lambda x:x%2==0,range(1,21)))\n",
    "print(var)"
   ]
  },
  {
   "cell_type": "code",
   "execution_count": null,
   "metadata": {},
   "outputs": [],
   "source": [
    "\"\"\"11. \tWrite a program which can map() and filter()\n",
    "to make a list whose elements are square of even number in [1,2,3,4,5,6,7,8,9,10]\n",
    "Hints: Use map() to generate a list.\n",
    "     \t     Use filter() to filter elements of a list\n",
    "            Use lambda to define anonymous functions\n",
    "\"\"\"\n",
    "\n",
    "var=list(map(lambda x:x**2,filter(lambda x:x%2==0,range(1,11))))\n",
    "var"
   ]
  },
  {
   "cell_type": "code",
   "execution_count": 3,
   "metadata": {},
   "outputs": [
    {
     "name": "stdout",
     "output_type": "stream",
     "text": [
      "Please provide other number than zero to complete the operation\n"
     ]
    }
   ],
   "source": [
    "\"\"\"\n",
    "12.Write a function to compute 5/0 and use try/except to catch the exceptions\n",
    "\"\"\"\n",
    "def divide_by_zero(a,b):\n",
    "    while(True):\n",
    "        try:\n",
    "            c=a/b\n",
    "            print(c)\n",
    "            break\n",
    "        except ZeroDivisionError:\n",
    "            print(\"Please provide other number than zero to complete the operation\")\n",
    "            break\n",
    "        finally:\n",
    "a=5\n",
    "b=0\n",
    "divide_by_zero(a,b)"
   ]
  },
  {
   "cell_type": "code",
   "execution_count": 36,
   "metadata": {},
   "outputs": [
    {
     "name": "stdout",
     "output_type": "stream",
     "text": [
      "1234567"
     ]
    }
   ],
   "source": [
    "\"\"\"\n",
    "Flatten the list [[1,2,3],[4,5],[6,7,8]] into [1,2,3,4,5,6,7,8] using reduce\n",
    "Goal : Turn [1,2,3,4,5,6,7] to 1234567 \n",
    "\"\"\"\n",
    "from functools import reduce\n",
    "import operator\n",
    "l1=[[1,2,3],[4,5],[6,7,8]]\n",
    "red=reduce(operator.add,l1)\n",
    "a=red[0:7]\n",
    "for i in a:\n",
    "    print(i,end=\"\")"
   ]
  },
  {
   "cell_type": "code",
   "execution_count": 39,
   "metadata": {},
   "outputs": [
    {
     "name": "stdout",
     "output_type": "stream",
     "text": [
      "2\n"
     ]
    }
   ],
   "source": [
    "\"\"\"\n",
    " 14. \tWhat is the output of the following codes:\n",
    " \"\"\"\n",
    "def foo():\n",
    "    try:\n",
    "        return 1\n",
    "    finally:\n",
    "        return 2\n",
    "k = foo()\n",
    "print(k)\n"
   ]
  },
  {
   "cell_type": "code",
   "execution_count": 42,
   "metadata": {},
   "outputs": [
    {
     "name": "stdout",
     "output_type": "stream",
     "text": [
      "after f\n"
     ]
    },
    {
     "ename": "NameError",
     "evalue": "name 'f' is not defined",
     "output_type": "error",
     "traceback": [
      "\u001b[1;31m---------------------------------------------------------------------------\u001b[0m",
      "\u001b[1;31mNameError\u001b[0m                                 Traceback (most recent call last)",
      "\u001b[1;32m<ipython-input-42-4947edbe761e>\u001b[0m in \u001b[0;36m<module>\u001b[1;34m()\u001b[0m\n\u001b[0;32m      5\u001b[0m         \u001b[0mprint\u001b[0m\u001b[1;33m(\u001b[0m\u001b[1;34m'after f'\u001b[0m\u001b[1;33m)\u001b[0m\u001b[1;33m\u001b[0m\u001b[0m\n\u001b[0;32m      6\u001b[0m     \u001b[0mprint\u001b[0m\u001b[1;33m(\u001b[0m\u001b[1;34m'after f?'\u001b[0m\u001b[1;33m)\u001b[0m\u001b[1;33m\u001b[0m\u001b[0m\n\u001b[1;32m----> 7\u001b[1;33m \u001b[0ma\u001b[0m\u001b[1;33m(\u001b[0m\u001b[1;33m)\u001b[0m\u001b[1;33m\u001b[0m\u001b[0m\n\u001b[0m",
      "\u001b[1;32m<ipython-input-42-4947edbe761e>\u001b[0m in \u001b[0;36ma\u001b[1;34m()\u001b[0m\n\u001b[0;32m      1\u001b[0m \u001b[1;32mdef\u001b[0m \u001b[0ma\u001b[0m\u001b[1;33m(\u001b[0m\u001b[1;33m)\u001b[0m\u001b[1;33m:\u001b[0m\u001b[1;33m\u001b[0m\u001b[0m\n\u001b[0;32m      2\u001b[0m     \u001b[1;32mtry\u001b[0m\u001b[1;33m:\u001b[0m\u001b[1;33m\u001b[0m\u001b[0m\n\u001b[1;32m----> 3\u001b[1;33m         \u001b[0mf\u001b[0m\u001b[1;33m(\u001b[0m\u001b[0mx\u001b[0m\u001b[1;33m,\u001b[0m \u001b[1;36m4\u001b[0m\u001b[1;33m)\u001b[0m\u001b[1;33m\u001b[0m\u001b[0m\n\u001b[0m\u001b[0;32m      4\u001b[0m     \u001b[1;32mfinally\u001b[0m\u001b[1;33m:\u001b[0m\u001b[1;33m\u001b[0m\u001b[0m\n\u001b[0;32m      5\u001b[0m         \u001b[0mprint\u001b[0m\u001b[1;33m(\u001b[0m\u001b[1;34m'after f'\u001b[0m\u001b[1;33m)\u001b[0m\u001b[1;33m\u001b[0m\u001b[0m\n",
      "\u001b[1;31mNameError\u001b[0m: name 'f' is not defined"
     ]
    }
   ],
   "source": [
    "def a():\n",
    "    try:\n",
    "        f(x, 4)\n",
    "    finally:\n",
    "        print('after f')\n",
    "    print('after f?')\n",
    "a()\n"
   ]
  },
  {
   "cell_type": "code",
   "execution_count": null,
   "metadata": {},
   "outputs": [],
   "source": []
  }
 ],
 "metadata": {
  "kernelspec": {
   "display_name": "Python 3",
   "language": "python",
   "name": "python3"
  },
  "language_info": {
   "codemirror_mode": {
    "name": "ipython",
    "version": 3
   },
   "file_extension": ".py",
   "mimetype": "text/x-python",
   "name": "python",
   "nbconvert_exporter": "python",
   "pygments_lexer": "ipython3",
   "version": "3.6.5"
  }
 },
 "nbformat": 4,
 "nbformat_minor": 2
}
